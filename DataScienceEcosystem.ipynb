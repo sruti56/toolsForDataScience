{
  "metadata": {
    "language_info": {
      "codemirror_mode": {
        "name": "python",
        "version": 3
      },
      "file_extension": ".py",
      "mimetype": "text/x-python",
      "name": "python",
      "nbconvert_exporter": "python",
      "pygments_lexer": "ipython3",
      "version": "3.8"
    },
    "kernelspec": {
      "name": "python",
      "display_name": "Python (Pyodide)",
      "language": "python"
    }
  },
  "nbformat_minor": 4,
  "nbformat": 4,
  "cells": [
    {
      "cell_type": "markdown",
      "source": "#Exercise -2\n# Data Science Tools and Ecosystem",
      "metadata": {}
    },
    {
      "cell_type": "markdown",
      "source": "# Data Science Tools and Ecosystem",
      "metadata": {}
    },
    {
      "cell_type": "code",
      "source": "#Exercise-3\n\n***In this notebook, Data Science Tools and Ecosystem are summarized.***",
      "metadata": {},
      "execution_count": null,
      "outputs": []
    },
    {
      "cell_type": "markdown",
      "source": "#Exercise-3\n\n***In this notebook, Data Science Tools and Ecosystem are summarized.***",
      "metadata": {}
    },
    {
      "cell_type": "markdown",
      "source": "#Exercise 10\n#\n**Objectives:**\n- List popular languages for Data Science\n- Data Science Tools\n- Data Science Environment\n- Jupyter Notebook\n- R and RStudio\n- Anaconda\n",
      "metadata": {}
    },
    {
      "cell_type": "markdown",
      "source": "#Exercise-4\n\nSome of the popular languages that Data Scientists use are:\n1. Python\n2. R\n3. SQL\n4. Java",
      "metadata": {}
    },
    {
      "cell_type": "markdown",
      "source": "#Exercise-4\n\nSome of the popular languages that Data Scientists use are:\n1. Python\n2. R\n3. SQL\n4. Java",
      "metadata": {}
    },
    {
      "cell_type": "code",
      "source": "#Exercise-5\n\nSome of the commonly used libraries used by Data Scientists include:\n1. NumPy\n2. SciPy\n3. Pandas\n4. Matplotlib",
      "metadata": {},
      "execution_count": null,
      "outputs": []
    },
    {
      "cell_type": "markdown",
      "source": "#Exercise-5\n\nSome of the commonly used libraries used by Data Scientists include:\n1. NumPy\n2. SciPy\n3. Pandas\n4. Matplotlib",
      "metadata": {}
    },
    {
      "cell_type": "code",
      "source": "#Exercise-6\n\n| Data Science Tools |\n----------------------\n| Jupyter Notebooks  | \n| PyCharm            |\n| Visual Studio      |\n| Google Colab       |\n| Anaconda           |\n",
      "metadata": {},
      "execution_count": null,
      "outputs": []
    },
    {
      "cell_type": "markdown",
      "source": "#Exercise-6\n\n| Data Science Tools |\n----------------------\n| Jupyter Notebooks  | \n| PyCharm            |\n| Visual Studio      |\n| Google Colab       |\n| Anaconda           |\n",
      "metadata": {}
    },
    {
      "cell_type": "markdown",
      "source": "#Exercise-7\n### Below are a few examples of evaluating arithmetic expressions in Python\n\n",
      "metadata": {}
    },
    {
      "cell_type": "code",
      "source": "#This a simple arithmetic expression to mutiply then add integers\n(3*4)+5",
      "metadata": {
        "trusted": true
      },
      "execution_count": 2,
      "outputs": [
        {
          "execution_count": 2,
          "output_type": "execute_result",
          "data": {
            "text/plain": "17"
          },
          "metadata": {}
        }
      ]
    },
    {
      "cell_type": "code",
      "source": "#This will convert 200 minutes to hours by diving by 60\nmin=200\nhr=200/60\nprint(hr)",
      "metadata": {
        "trusted": true
      },
      "execution_count": 3,
      "outputs": [
        {
          "name": "stdout",
          "text": "3.3333333333333335\n",
          "output_type": "stream"
        }
      ]
    },
    {
      "cell_type": "markdown",
      "source": "## Author\nSrutipragyan Swain",
      "metadata": {}
    },
    {
      "cell_type": "code",
      "source": "",
      "metadata": {},
      "execution_count": null,
      "outputs": []
    }
  ]
}